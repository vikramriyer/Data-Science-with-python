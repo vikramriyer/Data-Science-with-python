{
 "cells": [
  {
   "cell_type": "code",
   "execution_count": 324,
   "metadata": {
    "collapsed": false
   },
   "outputs": [],
   "source": [
    "import pandas as pd\n",
    "import numpy as np\n",
    "from pandas import Series, DataFrame\n",
    "import matplotlib.pyplot as plt\n",
    "import seaborn as sns\n",
    "%matplotlib inline"
   ]
  },
  {
   "cell_type": "code",
   "execution_count": 325,
   "metadata": {
    "collapsed": true
   },
   "outputs": [],
   "source": [
    "titanic_data = pd.read_csv('../../project/datasets/titanic/train.csv')"
   ]
  },
  {
   "cell_type": "code",
   "execution_count": 326,
   "metadata": {
    "collapsed": false,
    "scrolled": true
   },
   "outputs": [
    {
     "data": {
      "text/html": [
       "<div>\n",
       "<table border=\"1\" class=\"dataframe\">\n",
       "  <thead>\n",
       "    <tr style=\"text-align: right;\">\n",
       "      <th></th>\n",
       "      <th>PassengerId</th>\n",
       "      <th>Survived</th>\n",
       "      <th>Pclass</th>\n",
       "      <th>Name</th>\n",
       "      <th>Sex</th>\n",
       "      <th>Age</th>\n",
       "      <th>SibSp</th>\n",
       "      <th>Parch</th>\n",
       "      <th>Ticket</th>\n",
       "      <th>Fare</th>\n",
       "      <th>Cabin</th>\n",
       "      <th>Embarked</th>\n",
       "    </tr>\n",
       "  </thead>\n",
       "  <tbody>\n",
       "    <tr>\n",
       "      <th>0</th>\n",
       "      <td>1</td>\n",
       "      <td>0</td>\n",
       "      <td>3</td>\n",
       "      <td>Braund, Mr. Owen Harris</td>\n",
       "      <td>male</td>\n",
       "      <td>22.0</td>\n",
       "      <td>1</td>\n",
       "      <td>0</td>\n",
       "      <td>A/5 21171</td>\n",
       "      <td>7.2500</td>\n",
       "      <td>NaN</td>\n",
       "      <td>S</td>\n",
       "    </tr>\n",
       "    <tr>\n",
       "      <th>1</th>\n",
       "      <td>2</td>\n",
       "      <td>1</td>\n",
       "      <td>1</td>\n",
       "      <td>Cumings, Mrs. John Bradley (Florence Briggs Th...</td>\n",
       "      <td>female</td>\n",
       "      <td>38.0</td>\n",
       "      <td>1</td>\n",
       "      <td>0</td>\n",
       "      <td>PC 17599</td>\n",
       "      <td>71.2833</td>\n",
       "      <td>C85</td>\n",
       "      <td>C</td>\n",
       "    </tr>\n",
       "    <tr>\n",
       "      <th>2</th>\n",
       "      <td>3</td>\n",
       "      <td>1</td>\n",
       "      <td>3</td>\n",
       "      <td>Heikkinen, Miss. Laina</td>\n",
       "      <td>female</td>\n",
       "      <td>26.0</td>\n",
       "      <td>0</td>\n",
       "      <td>0</td>\n",
       "      <td>STON/O2. 3101282</td>\n",
       "      <td>7.9250</td>\n",
       "      <td>NaN</td>\n",
       "      <td>S</td>\n",
       "    </tr>\n",
       "    <tr>\n",
       "      <th>3</th>\n",
       "      <td>4</td>\n",
       "      <td>1</td>\n",
       "      <td>1</td>\n",
       "      <td>Futrelle, Mrs. Jacques Heath (Lily May Peel)</td>\n",
       "      <td>female</td>\n",
       "      <td>35.0</td>\n",
       "      <td>1</td>\n",
       "      <td>0</td>\n",
       "      <td>113803</td>\n",
       "      <td>53.1000</td>\n",
       "      <td>C123</td>\n",
       "      <td>S</td>\n",
       "    </tr>\n",
       "    <tr>\n",
       "      <th>4</th>\n",
       "      <td>5</td>\n",
       "      <td>0</td>\n",
       "      <td>3</td>\n",
       "      <td>Allen, Mr. William Henry</td>\n",
       "      <td>male</td>\n",
       "      <td>35.0</td>\n",
       "      <td>0</td>\n",
       "      <td>0</td>\n",
       "      <td>373450</td>\n",
       "      <td>8.0500</td>\n",
       "      <td>NaN</td>\n",
       "      <td>S</td>\n",
       "    </tr>\n",
       "  </tbody>\n",
       "</table>\n",
       "</div>"
      ],
      "text/plain": [
       "   PassengerId  Survived  Pclass  \\\n",
       "0            1         0       3   \n",
       "1            2         1       1   \n",
       "2            3         1       3   \n",
       "3            4         1       1   \n",
       "4            5         0       3   \n",
       "\n",
       "                                                Name     Sex   Age  SibSp  \\\n",
       "0                            Braund, Mr. Owen Harris    male  22.0      1   \n",
       "1  Cumings, Mrs. John Bradley (Florence Briggs Th...  female  38.0      1   \n",
       "2                             Heikkinen, Miss. Laina  female  26.0      0   \n",
       "3       Futrelle, Mrs. Jacques Heath (Lily May Peel)  female  35.0      1   \n",
       "4                           Allen, Mr. William Henry    male  35.0      0   \n",
       "\n",
       "   Parch            Ticket     Fare Cabin Embarked  \n",
       "0      0         A/5 21171   7.2500   NaN        S  \n",
       "1      0          PC 17599  71.2833   C85        C  \n",
       "2      0  STON/O2. 3101282   7.9250   NaN        S  \n",
       "3      0            113803  53.1000  C123        S  \n",
       "4      0            373450   8.0500   NaN        S  "
      ]
     },
     "execution_count": 326,
     "metadata": {},
     "output_type": "execute_result"
    }
   ],
   "source": [
    "titanic_data.head()"
   ]
  },
  {
   "cell_type": "code",
   "execution_count": 327,
   "metadata": {
    "collapsed": false
   },
   "outputs": [
    {
     "name": "stdout",
     "output_type": "stream",
     "text": [
      "<class 'pandas.core.frame.DataFrame'>\n",
      "RangeIndex: 891 entries, 0 to 890\n",
      "Data columns (total 12 columns):\n",
      "PassengerId    891 non-null int64\n",
      "Survived       891 non-null int64\n",
      "Pclass         891 non-null int64\n",
      "Name           891 non-null object\n",
      "Sex            891 non-null object\n",
      "Age            714 non-null float64\n",
      "SibSp          891 non-null int64\n",
      "Parch          891 non-null int64\n",
      "Ticket         891 non-null object\n",
      "Fare           891 non-null float64\n",
      "Cabin          204 non-null object\n",
      "Embarked       889 non-null object\n",
      "dtypes: float64(2), int64(5), object(5)\n",
      "memory usage: 83.6+ KB\n"
     ]
    }
   ],
   "source": [
    "titanic_data.info()"
   ]
  },
  {
   "cell_type": "code",
   "execution_count": 328,
   "metadata": {
    "collapsed": true
   },
   "outputs": [],
   "source": [
    "# Questions?\n",
    "# 1. What was the percentage of survival for males vs females? for ex: 70% males survived, 62% females survived\n",
    "# 2. Which class(ex: Business,Economy) suffered the maximum damages, in terms of casualties?\n",
    "# 3. How many people travelled alone and how many travelled with family?\n",
    "# 4. Which factors helped someone survive?"
   ]
  },
  {
   "cell_type": "code",
   "execution_count": 329,
   "metadata": {
    "collapsed": true
   },
   "outputs": [],
   "source": [
    "# To answer \"Q1\", below is the algorithm\n",
    "# step 1: find total population on the ship\n",
    "# step 2: verify if all of the data is legitimate/correct\n",
    "# step 3: find the percentage of females and males\n",
    "# step 4: find the total casualties (optional, incase required later)\n",
    "# step 5: find percentage of total male casualties and same for females\n",
    "# step 6: publish the results in a format(visualization) which easily explains the findings"
   ]
  },
  {
   "cell_type": "code",
   "execution_count": 330,
   "metadata": {
    "collapsed": false
   },
   "outputs": [
    {
     "name": "stdout",
     "output_type": "stream",
     "text": [
      "The total number of passengers on the ship: 891\n"
     ]
    }
   ],
   "source": [
    "# step 1 - find total\n",
    "# how? count the total number of rows in the csv\n",
    "total_passengers = len(titanic_data.index)\n",
    "print 'The total number of passengers on the ship: ' + str(total_passengers)"
   ]
  },
  {
   "cell_type": "code",
   "execution_count": 331,
   "metadata": {
    "collapsed": false
   },
   "outputs": [
    {
     "data": {
      "text/plain": [
       "891"
      ]
     },
     "execution_count": 331,
     "metadata": {},
     "output_type": "execute_result"
    }
   ],
   "source": [
    "# step 2 - verify the correctness of data\n",
    "# how? check if all the rows have passenger ids, if yes, then they must be unique\n",
    "unique_passengers = len(titanic_data['PassengerId'].unique())\n",
    "unique_passengers"
   ]
  },
  {
   "cell_type": "code",
   "execution_count": 332,
   "metadata": {
    "collapsed": false
   },
   "outputs": [],
   "source": [
    "## Above result shows that all the passengerIds are unique. \n",
    "# Why did we choose passengerId and not any other field?\n",
    "# Familiarity with databases makes us think of a row as a tuple and in a tuple, there is a differenciating factor,\n",
    "# that is called the primary key. This field cannot be null and uniquely identifies a tuple\n",
    "# for ex: names, sex, age can be same for multiple people, but passesgerId will not be"
   ]
  },
  {
   "cell_type": "code",
   "execution_count": 333,
   "metadata": {
    "collapsed": false
   },
   "outputs": [
    {
     "name": "stdout",
     "output_type": "stream",
     "text": [
      "Total passengers: 891\n",
      "Male passengers: 577\n",
      "Female passengers: 314\n"
     ]
    }
   ],
   "source": [
    "## So now , lets go ahead with step 3\n",
    "# step 3 - find percentage of females and males\n",
    "# how? we know the total number of passengers, find no of males by differentiating w.r.t to sex,\n",
    "# then females = total - no of males and then we calculate the respective percentages\n",
    "list_of_males = np.where(titanic_data['Sex'] == 'male')\n",
    "list_of_females = np.where(titanic_data['Sex'] == 'female')\n",
    "no_of_males = list_of_males[0].size\n",
    "no_of_females = total_passengers - no_of_males\n",
    "print 'Total passengers: ' + str(total_passengers)\n",
    "print 'Male passengers: ' + str(no_of_males)\n",
    "print 'Female passengers: ' + str(no_of_females)"
   ]
  },
  {
   "cell_type": "code",
   "execution_count": 334,
   "metadata": {
    "collapsed": false
   },
   "outputs": [
    {
     "name": "stdout",
     "output_type": "stream",
     "text": [
      "Percentage of males on the ship: 64.76\n",
      "Percentage of females on the ship: 35.24\n"
     ]
    }
   ],
   "source": [
    "print 'Percentage of males on the ship: ' + str(np.round((no_of_males/float(total_passengers))*100, 2))\n",
    "print 'Percentage of females on the ship: ' + str(np.round((no_of_females/float(total_passengers))*100, 2))"
   ]
  },
  {
   "cell_type": "code",
   "execution_count": 335,
   "metadata": {
    "collapsed": true
   },
   "outputs": [],
   "source": [
    "# step 4: find the total casualties (optional)"
   ]
  },
  {
   "cell_type": "code",
   "execution_count": 336,
   "metadata": {
    "collapsed": false
   },
   "outputs": [
    {
     "name": "stdout",
     "output_type": "stream",
     "text": [
      "Total casualties: 549\n"
     ]
    }
   ],
   "source": [
    "list_of_casualties = np.where(titanic_data['Survived'] == 0)\n",
    "no_of_casualties = len(list_of_casualties[0])\n",
    "print 'Total casualties: ' + str(no_of_casualties)"
   ]
  },
  {
   "cell_type": "code",
   "execution_count": 337,
   "metadata": {
    "collapsed": false
   },
   "outputs": [],
   "source": [
    "# step 5: find total male casualties and same for females"
   ]
  },
  {
   "cell_type": "code",
   "execution_count": 338,
   "metadata": {
    "collapsed": true
   },
   "outputs": [],
   "source": [
    "# for males => choose rows where survived = 0 and sex = male\n",
    "# for females => choose rows where survived = 0 and sex = female\n",
    "df = pd.DataFrame(titanic_data, columns=['PassengerId','Survived', 'Sex'])"
   ]
  },
  {
   "cell_type": "code",
   "execution_count": 339,
   "metadata": {
    "collapsed": false
   },
   "outputs": [],
   "source": [
    "males_not_survived_df = titanic_data[(titanic_data[\"Sex\"] == 'male') & (titanic_data[\"Survived\"] == 0)]\n",
    "no_of_male_casualties = len(males_not_survived_df)"
   ]
  },
  {
   "cell_type": "code",
   "execution_count": 340,
   "metadata": {
    "collapsed": false
   },
   "outputs": [
    {
     "data": {
      "text/plain": [
       "81"
      ]
     },
     "execution_count": 340,
     "metadata": {},
     "output_type": "execute_result"
    }
   ],
   "source": [
    "females_not_survived_df = titanic_data[(titanic_data[\"Sex\"] == 'female') & (titanic_data[\"Survived\"] == 0)]\n",
    "len(females_not_survived_df)"
   ]
  },
  {
   "cell_type": "code",
   "execution_count": 341,
   "metadata": {
    "collapsed": false
   },
   "outputs": [
    {
     "name": "stdout",
     "output_type": "stream",
     "text": [
      "Total male casualties: 468\n"
     ]
    }
   ],
   "source": [
    "print 'Total male casualties: ' + str(no_of_male_casualties)"
   ]
  },
  {
   "cell_type": "code",
   "execution_count": 342,
   "metadata": {
    "collapsed": false
   },
   "outputs": [
    {
     "name": "stdout",
     "output_type": "stream",
     "text": [
      "Total female casualties: 81\n"
     ]
    }
   ],
   "source": [
    "print 'Total female casualties: ' + str(no_of_female_casualties)"
   ]
  },
  {
   "cell_type": "code",
   "execution_count": 343,
   "metadata": {
    "collapsed": false
   },
   "outputs": [
    {
     "name": "stdout",
     "output_type": "stream",
     "text": [
      "Percentage of male casualties: 85.25\n",
      "Percentage of female casualties: 14.75\n"
     ]
    }
   ],
   "source": [
    "# Percentage of male and female casualties\n",
    "print 'Percentage of male casualties: ' + str(np.round((no_of_male_casualties/float(no_of_casualties))*100, 2))\n",
    "print 'Percentage of female casualties: ' + str(np.round((no_of_female_casualties/float(no_of_casualties))*100, 2))"
   ]
  },
  {
   "cell_type": "code",
   "execution_count": 344,
   "metadata": {
    "collapsed": false
   },
   "outputs": [],
   "source": [
    "# Visualisation\n",
    "total_casualties_df = titanic_data[titanic_data[\"Survived\"] == 0]"
   ]
  },
  {
   "cell_type": "code",
   "execution_count": 345,
   "metadata": {
    "collapsed": false
   },
   "outputs": [
    {
     "data": {
      "text/plain": [
       "<seaborn.axisgrid.FacetGrid at 0x7f4383520210>"
      ]
     },
     "execution_count": 345,
     "metadata": {},
     "output_type": "execute_result"
    },
    {
     "data": {
      "image/png": "[encoded data removed]",
      "text/plain": [
       "<matplotlib.figure.Figure at 0x7f43834bae10>"
      ]
     },
     "metadata": {},
     "output_type": "display_data"
    }
   ],
   "source": [
    "# graph showing male vs female onboards\n",
    "sns.factorplot('Sex',data=titanic_data,kind=\"count\")"
   ]
  },
  {
   "cell_type": "code",
   "execution_count": 346,
   "metadata": {
    "collapsed": false
   },
   "outputs": [
    {
     "data": {
      "text/plain": [
       "<seaborn.axisgrid.FacetGrid at 0x7f43835205d0>"
      ]
     },
     "execution_count": 346,
     "metadata": {},
     "output_type": "execute_result"
    },
    {
     "data": {
      "image/png": "[encoded data removed]",
      "text/plain": [
       "<matplotlib.figure.Figure at 0x7f43833b1c90>"
      ]
     },
     "metadata": {},
     "output_type": "display_data"
    }
   ],
   "source": [
    "# graph showing male vs female casualties\n",
    "sns.factorplot('Sex',data=total_casualties_df,kind=\"count\")"
   ]
  },
  {
   "cell_type": "code",
   "execution_count": null,
   "metadata": {
    "collapsed": true
   },
   "outputs": [],
   "source": []
  },
  {
   "cell_type": "code",
   "execution_count": null,
   "metadata": {
    "collapsed": true
   },
   "outputs": [],
   "source": []
  },
  {
   "cell_type": "code",
   "execution_count": 347,
   "metadata": {
    "collapsed": true
   },
   "outputs": [],
   "source": [
    "# 2. Which class(ex: Business,Economy) suffered the maximum damages, in terms of casualties?\n",
    "# To answer \"Q2\", below is the algorithm\n",
    "# step 1: group the titanic_data dataframe into 3 sub df's\n",
    "# 1. Pclass = 1\n",
    "# 2. Pclass = 2\n",
    "# 3. Pclass = 3\n",
    "# step 2: further differentiate each w.r.t survived = 0 and survived = 1 and calculate the percentages\n",
    "# step 3: visualize"
   ]
  },
  {
   "cell_type": "code",
   "execution_count": 348,
   "metadata": {
    "collapsed": false
   },
   "outputs": [],
   "source": [
    "# step 1: group the titanic_data dataframe into 3 sub df's\n",
    "pclass_1_df = titanic_data[(titanic_data[\"Pclass\"] == 1)]\n",
    "pclass_2_df = titanic_data[(titanic_data[\"Pclass\"] == 2)]\n",
    "pclass_3_df = titanic_data[(titanic_data[\"Pclass\"] == 3)]"
   ]
  },
  {
   "cell_type": "code",
   "execution_count": 349,
   "metadata": {
    "collapsed": false
   },
   "outputs": [
    {
     "name": "stdout",
     "output_type": "stream",
     "text": [
      "Total people in class 1: 216\n",
      "Total people in class 2: 184\n",
      "Total people in class 3: 491\n"
     ]
    }
   ],
   "source": [
    "print 'Total people in class 1: ' + str(len(pclass_1_df))\n",
    "print 'Total people in class 2: ' + str(len(pclass_2_df))\n",
    "print 'Total people in class 3: ' + str(len(pclass_3_df))"
   ]
  },
  {
   "cell_type": "code",
   "execution_count": 350,
   "metadata": {
    "collapsed": false
   },
   "outputs": [
    {
     "data": {
      "text/plain": [
       "<seaborn.axisgrid.FacetGrid at 0x7f43832ad090>"
      ]
     },
     "execution_count": 350,
     "metadata": {},
     "output_type": "execute_result"
    },
    {
     "data": {
      "image/png": "[encoded data removed]",
      "text/plain": [
       "<matplotlib.figure.Figure at 0x7f4383443d50>"
      ]
     },
     "metadata": {},
     "output_type": "display_data"
    }
   ],
   "source": [
    "# total people in class 1, class 2, class 3\n",
    "sns.factorplot('Pclass',data=titanic_data,kind=\"count\")"
   ]
  },
  {
   "cell_type": "code",
   "execution_count": 351,
   "metadata": {
    "collapsed": false
   },
   "outputs": [
    {
     "name": "stdout",
     "output_type": "stream",
     "text": [
      "80 people from class 1 did not survive\n",
      "136 people from class 1 survived\n",
      "97 people from class 2 did not survive\n",
      "87 people from class 2 survived\n",
      "372 people from class 3 did not survive\n",
      "119 people from class 3 survived\n"
     ]
    }
   ],
   "source": [
    "# people in class 1 in terms of survival and non-survival\n",
    "class_1_non_survival = len(pclass_1_df[(pclass_1_df[\"Survived\"] == 0)])\n",
    "print str(class_1_non_survival) + ' people from class 1 did not survive' \n",
    "class_1_survival = len(pclass_1_df[(pclass_1_df[\"Survived\"] == 1)])\n",
    "print str(class_1_survival) + ' people from class 1 survived'\n",
    "# people in class 2 in terms of survival and non-survival\n",
    "class_2_non_survival = len(pclass_2_df[(pclass_2_df[\"Survived\"] == 0)])\n",
    "print str(class_2_non_survival) + ' people from class 2 did not survive' \n",
    "class_2_survival = len(pclass_2_df[(pclass_2_df[\"Survived\"] == 1)])\n",
    "print str(class_2_survival) + ' people from class 2 survived'\n",
    "# people in class 3 in terms of survival and non-survival\n",
    "class_3_non_survival = len(pclass_3_df[(pclass_3_df[\"Survived\"] == 0)])\n",
    "print str(class_3_non_survival) + ' people from class 3 did not survive' \n",
    "class_3_survival = len(pclass_3_df[(pclass_3_df[\"Survived\"] == 1)])\n",
    "print str(class_3_survival) + ' people from class 3 survived'"
   ]
  },
  {
   "cell_type": "code",
   "execution_count": 352,
   "metadata": {
    "collapsed": false
   },
   "outputs": [
    {
     "data": {
      "text/plain": [
       "<seaborn.axisgrid.FacetGrid at 0x7f4383da9a10>"
      ]
     },
     "execution_count": 352,
     "metadata": {},
     "output_type": "execute_result"
    },
    {
     "data": {
      "image/png": "[encoded data removed]",
      "text/plain": [
       "<matplotlib.figure.Figure at 0x7f4383da96d0>"
      ]
     },
     "metadata": {},
     "output_type": "display_data"
    }
   ],
   "source": [
    "# class 1 w.r.t survival and non-survival\n",
    "sns.factorplot('Survived',data=pclass_1_df,kind=\"count\")"
   ]
  },
  {
   "cell_type": "code",
   "execution_count": 353,
   "metadata": {
    "collapsed": false
   },
   "outputs": [
    {
     "data": {
      "text/plain": [
       "<seaborn.axisgrid.FacetGrid at 0x7f43838f8290>"
      ]
     },
     "execution_count": 353,
     "metadata": {},
     "output_type": "execute_result"
    },
    {
     "data": {
      "image/png": "[encoded data removed]",
      "text/plain": [
       "<matplotlib.figure.Figure at 0x7f4383310bd0>"
      ]
     },
     "metadata": {},
     "output_type": "display_data"
    }
   ],
   "source": [
    "# class 2 w.r.t survival and non-survival\n",
    "sns.factorplot('Survived',data=pclass_2_df,kind=\"count\")"
   ]
  },
  {
   "cell_type": "code",
   "execution_count": 354,
   "metadata": {
    "collapsed": false
   },
   "outputs": [
    {
     "data": {
      "text/plain": [
       "<seaborn.axisgrid.FacetGrid at 0x7f4383da1250>"
      ]
     },
     "execution_count": 354,
     "metadata": {},
     "output_type": "execute_result"
    },
    {
     "data": {
      "image/png": "[encoded data removed]",
      "text/plain": [
       "<matplotlib.figure.Figure at 0x7f4383190610>"
      ]
     },
     "metadata": {},
     "output_type": "display_data"
    }
   ],
   "source": [
    "# class 3 w.r.t survival and non-survival\n",
    "sns.factorplot('Survived',data=pclass_3_df,kind=\"count\")"
   ]
  },
  {
   "cell_type": "code",
   "execution_count": 355,
   "metadata": {
    "collapsed": true
   },
   "outputs": [],
   "source": [
    "# Conclusion:\n",
    "# From the graphs we can conclude that the rate of death is higher in terms of pclass = 3"
   ]
  },
  {
   "cell_type": "code",
   "execution_count": null,
   "metadata": {
    "collapsed": true
   },
   "outputs": [],
   "source": []
  },
  {
   "cell_type": "code",
   "execution_count": null,
   "metadata": {
    "collapsed": true
   },
   "outputs": [],
   "source": []
  },
  {
   "cell_type": "code",
   "execution_count": 356,
   "metadata": {
    "collapsed": true
   },
   "outputs": [],
   "source": [
    "# 3. How many people travelled alone and how many travelled with family?\n",
    "# To answer \"Q2\", below is the algorithm\n",
    "# step 1: \n",
    "# step 2: "
   ]
  },
  {
   "cell_type": "code",
   "execution_count": 357,
   "metadata": {
    "collapsed": false
   },
   "outputs": [
    {
     "data": {
      "text/plain": [
       "<seaborn.axisgrid.FacetGrid at 0x7f4383105650>"
      ]
     },
     "execution_count": 357,
     "metadata": {},
     "output_type": "execute_result"
    },
    {
     "data": {
      "image/png": "[encoded data removed]",
      "text/plain": [
       "<matplotlib.figure.Figure at 0x7f438308e290>"
      ]
     },
     "metadata": {},
     "output_type": "display_data"
    }
   ],
   "source": [
    "sns.factorplot('Pclass',data=titanic_data,hue='Sex',kind='count')"
   ]
  },
  {
   "cell_type": "code",
   "execution_count": null,
   "metadata": {
    "collapsed": true
   },
   "outputs": [],
   "source": []
  }
 ],
 "metadata": {
  "kernelspec": {
   "display_name": "Python [Root]",
   "language": "python",
   "name": "Python [Root]"
  },
  "language_info": {
   "codemirror_mode": {
    "name": "ipython",
    "version": 2
   },
   "file_extension": ".py",
   "mimetype": "text/x-python",
   "name": "python",
   "nbconvert_exporter": "python",
   "pygments_lexer": "ipython2",
   "version": "2.7.12"
  }
 },
 "nbformat": 4,
 "nbformat_minor": 0
}
